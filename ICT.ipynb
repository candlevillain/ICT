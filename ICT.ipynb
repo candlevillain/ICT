{
  "nbformat": 4,
  "nbformat_minor": 0,
  "metadata": {
    "colab": {
      "name": "ICT.ipynb",
      "provenance": [],
      "collapsed_sections": [],
      "authorship_tag": "ABX9TyMcIw1fQm0jMIjzVbdmD577",
      "include_colab_link": true
    },
    "kernelspec": {
      "name": "python3",
      "display_name": "Python 3"
    }
  },
  "cells": [
    {
      "cell_type": "markdown",
      "metadata": {
        "id": "view-in-github",
        "colab_type": "text"
      },
      "source": [
        "<a href=\"https://colab.research.google.com/github/candlevillain/ICT/blob/master/ICT.ipynb\" target=\"_parent\"><img src=\"https://colab.research.google.com/assets/colab-badge.svg\" alt=\"Open In Colab\"/></a>"
      ]
    },
    {
      "cell_type": "code",
      "metadata": {
        "id": "XnC-NSPdEFTg",
        "colab_type": "code",
        "colab": {}
      },
      "source": [
        "import numpy as np\n",
        "import pandas as pd\n",
        "import matplotlib.pyplot as plt\n",
        "import seaborn as sns\n",
        "\n",
        "df=pd.read_excel('/content/제주특별자치도_버스정류소현황_201708.Exl.xlsx')\n",
        "df2=pd.read_excel('/content/제주특별자치도_한라산탐방객현황_2014_2018..xlsx')\n",
        "plt.scatter(df['경도'],df['위도'])\n",
        "df[df['정류소명']=='(구)중앙파출소']"
      ],
      "execution_count": null,
      "outputs": []
    },
    {
      "cell_type": "markdown",
      "metadata": {
        "id": "m4vMDiG08AXE",
        "colab_type": "text"
      },
      "source": [
        ""
      ]
    },
    {
      "cell_type": "code",
      "metadata": {
        "id": "F51S7_ugHp0B",
        "colab_type": "code",
        "colab": {
          "base_uri": "https://localhost:8080/",
          "height": 1000
        },
        "outputId": "cb236087-f268-413c-f79e-a3408c26fc48"
      },
      "source": [
        "df2=pd.read_excel('/content/mountain.xlsx')\n",
        "print(df2)"
      ],
      "execution_count": null,
      "outputs": [
        {
          "output_type": "stream",
          "text": [
            "           구분    어리목     영실    성판악    관음사   돈내코\n",
            "0    2014년 1월  38438  23593  63950   7769  2428\n",
            "1    2014년 2월  26338  26009  39079   4497  1338\n",
            "2    2014년 3월  25865  15816  29038   2476  1302\n",
            "3    2014년 4월  36917  21065  33980   4017   997\n",
            "4    2014년 5월  32995  30804  34533   5813  1681\n",
            "5    2014년 6월  33041  25526  27411   5570  1938\n",
            "6    2014년 7월  28586  14744  18647   5039   762\n",
            "7    2014년 8월  28513  15746  28382   4463   762\n",
            "8    2014년 9월  33885  22324  31839   6349   667\n",
            "9   2014년 10월  41932  34724  47012   8965   876\n",
            "10  2014년 11월  31946  26221  38082   8979   469\n",
            "11  2014년 12월  35503  16147  26320   3748   346\n",
            "12   2015년 1월  48351  35139  57484   8635   839\n",
            "13   2015년 2월  36716  23697  36103   6069   629\n",
            "14   2015년 3월  36579  20020  25834   4312   432\n",
            "15   2015년 4월  41783  21595  52223   5118   461\n",
            "16   2015년 5월  49974  31009  72025   6595  1011\n",
            "17   2015년 6월  20757  22857  26309   4164   822\n",
            "18   2015년 7월  12039  14092  21410   5099   413\n",
            "19   2015년 8월  20464  19327  27303   7127   516\n",
            "20   2015년 9월  28352  20374  29017   3968   472\n",
            "21  2015년 10월  48079  44898  49699   6311   568\n",
            "22  2015년 11월  31063  28792  29851   5612   450\n",
            "23  2015년 12월  35555  29299  34969   2679   391\n",
            "24   2016년 1월  41455  22958  58073   2959   579\n",
            "25   2016년 2월  38633  29337  31659   2343   409\n",
            "26   2016년 3월  34784  21600  24486   2222   393\n",
            "27   2016년 4월  32786  19373  27032   2637   500\n",
            "28   2016년 5월  38241  29043  35252   3364   832\n",
            "29   2016년 6월  29366  22713  22059   2419  1063\n",
            "30   2016년 7월  23013  16139  19653   3722   398\n",
            "31   2016년 8월  27882  20808  20853   4920   573\n",
            "32   2016년 9월  25478  21522  21227   3228   371\n",
            "33  2016년 10월  36473  27096  34512   6401   577\n",
            "34  2016년 11월  27229  30821  28403   5146   694\n",
            "35  2016년 12월  25695  22778  27339   3799   578\n",
            "36   2017년 1월  37527  26668  38091   5653   771\n",
            "37   2017년 2월  26479  18898  40952   4876   432\n",
            "38   2017년 3월  17566  20526  22304   4635   412\n",
            "39   2017년 4월  18392  20918  27603   5938   540\n",
            "40   2017년 5월  30191  34246  35759   7492   910\n",
            "41   2017년 6월  19528  26566  22292   6862   949\n",
            "42   2017년 7월  15123  13219  15488   7931   495\n",
            "43   2017년 8월  16833  13862  16021   6909   567\n",
            "44   2017년 9월  15134  17796  22478   6194   484\n",
            "45  2017년 10월  33498  36046  37228  11709   622\n",
            "46  2017년 11월  23444  25622  39297   7056   574\n",
            "47  2017년 12월  32035  20515  35675   5176   433\n",
            "48   2018년 1월  28301  21052  55637   6015   553\n",
            "49   2018년 2월  12335  11461  16998   6212   231\n",
            "50   2018년 3월  16864  17166  27623   4246   436\n",
            "51   2018년 4월  19604  18928  31922   4292   451\n",
            "52   2018년 5월  25934  29981  34772   6597   626\n",
            "53   2018년 6월  20919  30555  21485   6880   703\n",
            "54   2018년 7월  12131  15324   6052  12369   416\n",
            "55   2018년 8월  15592  17959  17601   6709   406\n",
            "56   2018년 9월  15534  19359  21581   4289   222\n",
            "57  2018년 10월  29580  36817  38166   7095   622\n",
            "58  2018년 11월  21422  25068  28438   7009   342\n",
            "59  2018년 12월  18264  12957  18035   3494   185\n"
          ],
          "name": "stdout"
        }
      ]
    },
    {
      "cell_type": "code",
      "metadata": {
        "id": "IpgvlSQAHul-",
        "colab_type": "code",
        "colab": {}
      },
      "source": [
        "df2.groupby('어리목').sum()"
      ],
      "execution_count": null,
      "outputs": []
    },
    {
      "cell_type": "code",
      "metadata": {
        "id": "mxuUGC06ITG2",
        "colab_type": "code",
        "colab": {}
      },
      "source": [
        "def summ(k):\n",
        "  ss=0\n",
        "  for i in df2.iloc[k]:\n",
        "    ss+=int(i)\n",
        "  return ss"
      ],
      "execution_count": null,
      "outputs": []
    },
    {
      "cell_type": "code",
      "metadata": {
        "id": "qO_VWpq9Js0C",
        "colab_type": "code",
        "colab": {}
      },
      "source": [
        "\n",
        "df2=pd.read_excel('/content/제주특별자치도_한라산탐방객현황_2014_2018..xlsx')\n",
        "df2['하루총합']=0\n",
        "DF2=df2.drop('구분',axis=1)\n",
        "for i in DF2.index:\n",
        "  DF2['하루총합'][i]=DF2.loc[i].sum()\n",
        "print(DF2)"
      ],
      "execution_count": null,
      "outputs": []
    },
    {
      "cell_type": "code",
      "metadata": {
        "id": "b_04cpXsMciU",
        "colab_type": "code",
        "colab": {}
      },
      "source": [
        "\n"
      ],
      "execution_count": null,
      "outputs": []
    },
    {
      "cell_type": "code",
      "metadata": {
        "id": "nHof8Sf5RJVe",
        "colab_type": "code",
        "colab": {}
      },
      "source": [
        "df3=pd.read_csv('/content/hadoop.csv')\n",
        "df3"
      ],
      "execution_count": null,
      "outputs": []
    },
    {
      "cell_type": "code",
      "metadata": {
        "id": "_7L7AlA5Qx_3",
        "colab_type": "code",
        "colab": {}
      },
      "source": [
        "unique_ip=df3['access_ip'].unique()\n"
      ],
      "execution_count": null,
      "outputs": []
    },
    {
      "cell_type": "code",
      "metadata": {
        "id": "DNgr8H03ScvX",
        "colab_type": "code",
        "colab": {}
      },
      "source": [
        "unique_dict=dict.fromkeys(unique_ip)\n",
        "for i in unique_dict.keys():\n",
        "  unique_dict[i]=[]\n",
        "unique_dict"
      ],
      "execution_count": null,
      "outputs": []
    },
    {
      "cell_type": "code",
      "metadata": {
        "id": "Qm_51pgbS4VU",
        "colab_type": "code",
        "colab": {
          "base_uri": "https://localhost:8080/",
          "height": 136
        },
        "outputId": "0b2fe195-b653-4aaa-b68d-6e4e92403ada"
      },
      "source": [
        "data=pd.DataFrame.from_dict.(unique_dict.orient='index')"
      ],
      "execution_count": null,
      "outputs": [
        {
          "output_type": "error",
          "ename": "SyntaxError",
          "evalue": "ignored",
          "traceback": [
            "\u001b[0;36m  File \u001b[0;32m\"<ipython-input-64-f2a9e4f03aaf>\"\u001b[0;36m, line \u001b[0;32m1\u001b[0m\n\u001b[0;31m    data=pd.DataFrame.from_dict.(unique_dict.orient='index')\u001b[0m\n\u001b[0m                                ^\u001b[0m\n\u001b[0;31mSyntaxError\u001b[0m\u001b[0;31m:\u001b[0m invalid syntax\n"
          ]
        }
      ]
    },
    {
      "cell_type": "code",
      "metadata": {
        "id": "TFDyayYP12VG",
        "colab_type": "code",
        "colab": {
          "base_uri": "https://localhost:8080/",
          "height": 269
        },
        "outputId": "c0aae07c-cff7-4931-e593-5275a72fb33a"
      },
      "source": [
        "df2.loc[60] = 0\n",
        "def summ(k):\n",
        "  ss=0\n",
        "  for i in df2.iloc[:,k]:\n",
        "    ss+=int(i)\n",
        "  return ss\n",
        "a=summ(1)\n",
        "b=summ(2)\n",
        "c=summ(3)\n",
        "d=summ(4)\n",
        "e=summ(5)\n",
        "df2.loc[60]=['2020.08.28',a,b,c,d,e]\n",
        "print(df2)\n",
        "\n",
        "\n"
      ],
      "execution_count": null,
      "outputs": [
        {
          "output_type": "stream",
          "text": [
            "            구분        어리목         영실        성판악       관음사      돈내코\n",
            "0     2014년 1월    38438.0    23593.0    63950.0    7769.0   2428.0\n",
            "1     2014년 2월    26338.0    26009.0    39079.0    4497.0   1338.0\n",
            "2     2014년 3월    25865.0    15816.0    29038.0    2476.0   1302.0\n",
            "3     2014년 4월    36917.0    21065.0    33980.0    4017.0    997.0\n",
            "4     2014년 5월    32995.0    30804.0    34533.0    5813.0   1681.0\n",
            "..         ...        ...        ...        ...       ...      ...\n",
            "56    2018년 9월    15534.0    19359.0    21581.0    4289.0    222.0\n",
            "57   2018년 10월    29580.0    36817.0    38166.0    7095.0    622.0\n",
            "58   2018년 11월    21422.0    25068.0    28438.0    7009.0    342.0\n",
            "59   2018년 12월    18264.0    12957.0    18035.0    3494.0    185.0\n",
            "60  2020.08.28  1706936.0  1399515.0  1902546.0  332172.0  39919.0\n",
            "\n",
            "[61 rows x 6 columns]\n"
          ],
          "name": "stdout"
        }
      ]
    },
    {
      "cell_type": "code",
      "metadata": {
        "id": "fJHoQv4XGa5K",
        "colab_type": "code",
        "colab": {
          "base_uri": "https://localhost:8080/",
          "height": 1000
        },
        "outputId": "b2c18308-a5eb-492a-d8af-7482d11be310"
      },
      "source": [
        "import tensorflow as tf\n",
        "import pandas as pd\n",
        "import numpy as np\n",
        "import matplotlib.pyplot as plt\n",
        "import seaborn as sns\n",
        "mnist =tf.keras.datasets.mnist\n",
        "mdata=mnist.load_data()\n",
        "print(mdata)\n",
        "len(mdata)\n",
        "len(mdata[0])\n",
        "len(mdata[1])\n",
        "type(mdata)"
      ],
      "execution_count": 4,
      "outputs": [
        {
          "output_type": "stream",
          "text": [
            "((array([[[0, 0, 0, ..., 0, 0, 0],\n",
            "        [0, 0, 0, ..., 0, 0, 0],\n",
            "        [0, 0, 0, ..., 0, 0, 0],\n",
            "        ...,\n",
            "        [0, 0, 0, ..., 0, 0, 0],\n",
            "        [0, 0, 0, ..., 0, 0, 0],\n",
            "        [0, 0, 0, ..., 0, 0, 0]],\n",
            "\n",
            "       [[0, 0, 0, ..., 0, 0, 0],\n",
            "        [0, 0, 0, ..., 0, 0, 0],\n",
            "        [0, 0, 0, ..., 0, 0, 0],\n",
            "        ...,\n",
            "        [0, 0, 0, ..., 0, 0, 0],\n",
            "        [0, 0, 0, ..., 0, 0, 0],\n",
            "        [0, 0, 0, ..., 0, 0, 0]],\n",
            "\n",
            "       [[0, 0, 0, ..., 0, 0, 0],\n",
            "        [0, 0, 0, ..., 0, 0, 0],\n",
            "        [0, 0, 0, ..., 0, 0, 0],\n",
            "        ...,\n",
            "        [0, 0, 0, ..., 0, 0, 0],\n",
            "        [0, 0, 0, ..., 0, 0, 0],\n",
            "        [0, 0, 0, ..., 0, 0, 0]],\n",
            "\n",
            "       ...,\n",
            "\n",
            "       [[0, 0, 0, ..., 0, 0, 0],\n",
            "        [0, 0, 0, ..., 0, 0, 0],\n",
            "        [0, 0, 0, ..., 0, 0, 0],\n",
            "        ...,\n",
            "        [0, 0, 0, ..., 0, 0, 0],\n",
            "        [0, 0, 0, ..., 0, 0, 0],\n",
            "        [0, 0, 0, ..., 0, 0, 0]],\n",
            "\n",
            "       [[0, 0, 0, ..., 0, 0, 0],\n",
            "        [0, 0, 0, ..., 0, 0, 0],\n",
            "        [0, 0, 0, ..., 0, 0, 0],\n",
            "        ...,\n",
            "        [0, 0, 0, ..., 0, 0, 0],\n",
            "        [0, 0, 0, ..., 0, 0, 0],\n",
            "        [0, 0, 0, ..., 0, 0, 0]],\n",
            "\n",
            "       [[0, 0, 0, ..., 0, 0, 0],\n",
            "        [0, 0, 0, ..., 0, 0, 0],\n",
            "        [0, 0, 0, ..., 0, 0, 0],\n",
            "        ...,\n",
            "        [0, 0, 0, ..., 0, 0, 0],\n",
            "        [0, 0, 0, ..., 0, 0, 0],\n",
            "        [0, 0, 0, ..., 0, 0, 0]]], dtype=uint8), array([5, 0, 4, ..., 5, 6, 8], dtype=uint8)), (array([[[0, 0, 0, ..., 0, 0, 0],\n",
            "        [0, 0, 0, ..., 0, 0, 0],\n",
            "        [0, 0, 0, ..., 0, 0, 0],\n",
            "        ...,\n",
            "        [0, 0, 0, ..., 0, 0, 0],\n",
            "        [0, 0, 0, ..., 0, 0, 0],\n",
            "        [0, 0, 0, ..., 0, 0, 0]],\n",
            "\n",
            "       [[0, 0, 0, ..., 0, 0, 0],\n",
            "        [0, 0, 0, ..., 0, 0, 0],\n",
            "        [0, 0, 0, ..., 0, 0, 0],\n",
            "        ...,\n",
            "        [0, 0, 0, ..., 0, 0, 0],\n",
            "        [0, 0, 0, ..., 0, 0, 0],\n",
            "        [0, 0, 0, ..., 0, 0, 0]],\n",
            "\n",
            "       [[0, 0, 0, ..., 0, 0, 0],\n",
            "        [0, 0, 0, ..., 0, 0, 0],\n",
            "        [0, 0, 0, ..., 0, 0, 0],\n",
            "        ...,\n",
            "        [0, 0, 0, ..., 0, 0, 0],\n",
            "        [0, 0, 0, ..., 0, 0, 0],\n",
            "        [0, 0, 0, ..., 0, 0, 0]],\n",
            "\n",
            "       ...,\n",
            "\n",
            "       [[0, 0, 0, ..., 0, 0, 0],\n",
            "        [0, 0, 0, ..., 0, 0, 0],\n",
            "        [0, 0, 0, ..., 0, 0, 0],\n",
            "        ...,\n",
            "        [0, 0, 0, ..., 0, 0, 0],\n",
            "        [0, 0, 0, ..., 0, 0, 0],\n",
            "        [0, 0, 0, ..., 0, 0, 0]],\n",
            "\n",
            "       [[0, 0, 0, ..., 0, 0, 0],\n",
            "        [0, 0, 0, ..., 0, 0, 0],\n",
            "        [0, 0, 0, ..., 0, 0, 0],\n",
            "        ...,\n",
            "        [0, 0, 0, ..., 0, 0, 0],\n",
            "        [0, 0, 0, ..., 0, 0, 0],\n",
            "        [0, 0, 0, ..., 0, 0, 0]],\n",
            "\n",
            "       [[0, 0, 0, ..., 0, 0, 0],\n",
            "        [0, 0, 0, ..., 0, 0, 0],\n",
            "        [0, 0, 0, ..., 0, 0, 0],\n",
            "        ...,\n",
            "        [0, 0, 0, ..., 0, 0, 0],\n",
            "        [0, 0, 0, ..., 0, 0, 0],\n",
            "        [0, 0, 0, ..., 0, 0, 0]]], dtype=uint8), array([7, 2, 1, ..., 4, 5, 6], dtype=uint8)))\n"
          ],
          "name": "stdout"
        },
        {
          "output_type": "execute_result",
          "data": {
            "text/plain": [
              "tuple"
            ]
          },
          "metadata": {
            "tags": []
          },
          "execution_count": 4
        }
      ]
    },
    {
      "cell_type": "code",
      "metadata": {
        "id": "O1wi0eqVG2Rq",
        "colab_type": "code",
        "colab": {
          "base_uri": "https://localhost:8080/",
          "height": 301
        },
        "outputId": "7a5c5a01-510b-498f-9743-28a86fac1007"
      },
      "source": [
        "img=mdata[0][0][0]\n",
        "\n",
        "print(mdata[0][1][0])\n",
        "plt.imshow(img)\n",
        "plt.imshow(img, cmap=plt.cm.binary) "
      ],
      "execution_count": 8,
      "outputs": [
        {
          "output_type": "stream",
          "text": [
            "5\n"
          ],
          "name": "stdout"
        },
        {
          "output_type": "execute_result",
          "data": {
            "text/plain": [
              "<matplotlib.image.AxesImage at 0x7f3a46cb1208>"
            ]
          },
          "metadata": {
            "tags": []
          },
          "execution_count": 8
        },
        {
          "output_type": "display_data",
          "data": {
            "image/png": "[encoded data removed]",
            "text/plain": [
              "<Figure size 432x288 with 1 Axes>"
            ]
          },
          "metadata": {
            "tags": [],
            "needs_background": "light"
          }
        }
      ]
    },
    {
      "cell_type": "code",
      "metadata": {
        "id": "c5T3GxKvJ5Mf",
        "colab_type": "code",
        "colab": {
          "base_uri": "https://localhost:8080/",
          "height": 292
        },
        "outputId": "f359bd84-8254-484f-d4c5-17292404a89c"
      },
      "source": [
        "def show_num(img,tag):\n",
        "  plt.imshow(img, cmap=plt.cm.binary) \n",
        "  plt.xticks([])\n",
        "  plt.yticks([])\n",
        "  plt.xlabel('tag:'+str(tag),size=40)\n",
        "  plt.show()\n",
        "img=mdata[0][0][1]\n",
        "tag=mdata[0][1][1]\n",
        "show_num(img,tag)"
      ],
      "execution_count": 12,
      "outputs": [
        {
          "output_type": "display_data",
          "data": {
            "image/png": "[encoded data removed]",
            "text/plain": [
              "<Figure size 432x288 with 1 Axes>"
            ]
          },
          "metadata": {
            "tags": []
          }
        }
      ]
    },
    {
      "cell_type": "code",
      "metadata": {
        "id": "Ou3tky5QK2QO",
        "colab_type": "code",
        "colab": {
          "base_uri": "https://localhost:8080/",
          "height": 285
        },
        "outputId": "41cfddc8-8f33-4aab-c307-63728522280a"
      },
      "source": [
        "sns.countplot(mdata[0][1])"
      ],
      "execution_count": 13,
      "outputs": [
        {
          "output_type": "execute_result",
          "data": {
            "text/plain": [
              "<matplotlib.axes._subplots.AxesSubplot at 0x7f3a46cbe7b8>"
            ]
          },
          "metadata": {
            "tags": []
          },
          "execution_count": 13
        },
        {
          "output_type": "display_data",
          "data": {
            "image/png": "[encoded data removed]",
            "text/plain": [
              "<Figure size 432x288 with 1 Axes>"
            ]
          },
          "metadata": {
            "tags": [],
            "needs_background": "light"
          }
        }
      ]
    },
    {
      "cell_type": "code",
      "metadata": {
        "id": "X_BebIdQK-gk",
        "colab_type": "code",
        "colab": {
          "base_uri": "https://localhost:8080/",
          "height": 283
        },
        "outputId": "e13d6871-b78e-4870-b680-d9895197d954"
      },
      "source": [
        "sns.countplot(mdata[1][1])"
      ],
      "execution_count": 16,
      "outputs": [
        {
          "output_type": "execute_result",
          "data": {
            "text/plain": [
              "<matplotlib.axes._subplots.AxesSubplot at 0x7f3a44bbbc18>"
            ]
          },
          "metadata": {
            "tags": []
          },
          "execution_count": 16
        },
        {
          "output_type": "display_data",
          "data": {
            "image/png": "[encoded data removed]",
            "text/plain": [
              "<Figure size 432x288 with 1 Axes>"
            ]
          },
          "metadata": {
            "tags": [],
            "needs_background": "light"
          }
        }
      ]
    },
    {
      "cell_type": "code",
      "metadata": {
        "id": "mv-X81HCLNhO",
        "colab_type": "code",
        "colab": {
          "base_uri": "https://localhost:8080/",
          "height": 53
        },
        "outputId": "115ce48f-eaef-4ecb-ce17-0d6ceec522ad"
      },
      "source": [
        "(x_train,y_train),(x_test,y_test)=mdata\n",
        "print(len(x_train))\n",
        "print(len(x_test))"
      ],
      "execution_count": 18,
      "outputs": [
        {
          "output_type": "stream",
          "text": [
            "60000\n",
            "10000\n"
          ],
          "name": "stdout"
        }
      ]
    },
    {
      "cell_type": "code",
      "metadata": {
        "id": "w6dM3KYELtvk",
        "colab_type": "code",
        "colab": {
          "base_uri": "https://localhost:8080/",
          "height": 292
        },
        "outputId": "9549f844-03b7-49c4-8114-2b102f8db2f6"
      },
      "source": [
        "x_train,x_test=x_train/255.0,x_test/255.0\n",
        "show_num(x_train[0],y_train[0])"
      ],
      "execution_count": 22,
      "outputs": [
        {
          "output_type": "display_data",
          "data": {
            "image/png": "[encoded data removed]",
            "text/plain": [
              "<Figure size 432x288 with 1 Axes>"
            ]
          },
          "metadata": {
            "tags": []
          }
        }
      ]
    },
    {
      "cell_type": "code",
      "metadata": {
        "id": "BWUdvLKnMhuc",
        "colab_type": "code",
        "colab": {}
      },
      "source": [
        "model = tf.keras.Sequential([\n",
        "  tf.keras.layers.Flatten(input_shape=(28,28)),\n",
        "  tf.keras.layers.Dense(128, activation='relu'),\n",
        "  tf.keras.layers.Dropout(0.2),\n",
        "  tf.keras.layers.Dense(10, activation= 'softmax')\n",
        "  ])"
      ],
      "execution_count": 26,
      "outputs": []
    },
    {
      "cell_type": "code",
      "metadata": {
        "id": "dItPwBO_OEBA",
        "colab_type": "code",
        "colab": {}
      },
      "source": [
        "model.compile(optimizer='adam',\n",
        "              loss='sparse_categorical_crossentropy',\n",
        "              metrics=['accuracy'])"
      ],
      "execution_count": 29,
      "outputs": []
    },
    {
      "cell_type": "code",
      "metadata": {
        "id": "Rmbo85vGOWBl",
        "colab_type": "code",
        "colab": {}
      },
      "source": [
        "print(x_train[0])"
      ],
      "execution_count": null,
      "outputs": []
    },
    {
      "cell_type": "code",
      "metadata": {
        "id": "dqsVcF-1PO_O",
        "colab_type": "code",
        "colab": {
          "base_uri": "https://localhost:8080/",
          "height": 1000
        },
        "outputId": "56b14532-230b-4266-c828-364d1a605565"
      },
      "source": [
        "model.fit(x_train,y_train,epochs=100)"
      ],
      "execution_count": 42,
      "outputs": [
        {
          "output_type": "stream",
          "text": [
            "Epoch 1/100\n",
            "1875/1875 [==============================] - 3s 2ms/step - loss: 0.2431 - accuracy: 0.9294\n",
            "Epoch 2/100\n",
            "1875/1875 [==============================] - 3s 2ms/step - loss: 0.2317 - accuracy: 0.9322\n",
            "Epoch 3/100\n",
            "1875/1875 [==============================] - 3s 2ms/step - loss: 0.2231 - accuracy: 0.9346\n",
            "Epoch 4/100\n",
            "1875/1875 [==============================] - 3s 2ms/step - loss: 0.2158 - accuracy: 0.9376\n",
            "Epoch 5/100\n",
            "1875/1875 [==============================] - 3s 2ms/step - loss: 0.2077 - accuracy: 0.9399\n",
            "Epoch 6/100\n",
            "1875/1875 [==============================] - 3s 2ms/step - loss: 0.2019 - accuracy: 0.9417\n",
            "Epoch 7/100\n",
            "1875/1875 [==============================] - 3s 2ms/step - loss: 0.1951 - accuracy: 0.9433\n",
            "Epoch 8/100\n",
            "1875/1875 [==============================] - 3s 2ms/step - loss: 0.1888 - accuracy: 0.9451\n",
            "Epoch 9/100\n",
            "1875/1875 [==============================] - 3s 2ms/step - loss: 0.1833 - accuracy: 0.9468\n",
            "Epoch 10/100\n",
            "1875/1875 [==============================] - 3s 2ms/step - loss: 0.1791 - accuracy: 0.9482\n",
            "Epoch 11/100\n",
            "1875/1875 [==============================] - 3s 2ms/step - loss: 0.1754 - accuracy: 0.9502\n",
            "Epoch 12/100\n",
            "1875/1875 [==============================] - 3s 2ms/step - loss: 0.1696 - accuracy: 0.9509\n",
            "Epoch 13/100\n",
            "1875/1875 [==============================] - 3s 2ms/step - loss: 0.1656 - accuracy: 0.9520\n",
            "Epoch 14/100\n",
            "1875/1875 [==============================] - 3s 2ms/step - loss: 0.1609 - accuracy: 0.9535\n",
            "Epoch 15/100\n",
            "1875/1875 [==============================] - 3s 2ms/step - loss: 0.1593 - accuracy: 0.9540\n",
            "Epoch 16/100\n",
            "1875/1875 [==============================] - 3s 2ms/step - loss: 0.1548 - accuracy: 0.9548\n",
            "Epoch 17/100\n",
            "1875/1875 [==============================] - 3s 2ms/step - loss: 0.1496 - accuracy: 0.9561\n",
            "Epoch 18/100\n",
            "1875/1875 [==============================] - 3s 2ms/step - loss: 0.1469 - accuracy: 0.9576\n",
            "Epoch 19/100\n",
            "1875/1875 [==============================] - 3s 2ms/step - loss: 0.1434 - accuracy: 0.9582\n",
            "Epoch 20/100\n",
            "1875/1875 [==============================] - 3s 2ms/step - loss: 0.1422 - accuracy: 0.9587\n",
            "Epoch 21/100\n",
            "1875/1875 [==============================] - 3s 2ms/step - loss: 0.1383 - accuracy: 0.9592\n",
            "Epoch 22/100\n",
            "1875/1875 [==============================] - 3s 2ms/step - loss: 0.1360 - accuracy: 0.9607\n",
            "Epoch 23/100\n",
            "1875/1875 [==============================] - 3s 2ms/step - loss: 0.1334 - accuracy: 0.9610\n",
            "Epoch 24/100\n",
            "1875/1875 [==============================] - 3s 2ms/step - loss: 0.1298 - accuracy: 0.9629\n",
            "Epoch 25/100\n",
            "1875/1875 [==============================] - 3s 2ms/step - loss: 0.1290 - accuracy: 0.9627\n",
            "Epoch 26/100\n",
            "1875/1875 [==============================] - 3s 2ms/step - loss: 0.1274 - accuracy: 0.9623\n",
            "Epoch 27/100\n",
            "1875/1875 [==============================] - 3s 2ms/step - loss: 0.1234 - accuracy: 0.9634\n",
            "Epoch 28/100\n",
            "1875/1875 [==============================] - 3s 2ms/step - loss: 0.1214 - accuracy: 0.9642\n",
            "Epoch 29/100\n",
            "1875/1875 [==============================] - 3s 2ms/step - loss: 0.1203 - accuracy: 0.9649\n",
            "Epoch 30/100\n",
            "1875/1875 [==============================] - 3s 2ms/step - loss: 0.1182 - accuracy: 0.9650\n",
            "Epoch 31/100\n",
            "1875/1875 [==============================] - 3s 2ms/step - loss: 0.1162 - accuracy: 0.9659\n",
            "Epoch 32/100\n",
            "1875/1875 [==============================] - 3s 2ms/step - loss: 0.1156 - accuracy: 0.9660\n",
            "Epoch 33/100\n",
            "1875/1875 [==============================] - 3s 2ms/step - loss: 0.1134 - accuracy: 0.9662\n",
            "Epoch 34/100\n",
            "1875/1875 [==============================] - 3s 2ms/step - loss: 0.1125 - accuracy: 0.9675\n",
            "Epoch 35/100\n",
            "1875/1875 [==============================] - 3s 2ms/step - loss: 0.1100 - accuracy: 0.9674\n",
            "Epoch 36/100\n",
            "1875/1875 [==============================] - 3s 2ms/step - loss: 0.1087 - accuracy: 0.9679\n",
            "Epoch 37/100\n",
            "1875/1875 [==============================] - 3s 2ms/step - loss: 0.1062 - accuracy: 0.9688\n",
            "Epoch 38/100\n",
            "1875/1875 [==============================] - 3s 2ms/step - loss: 0.1059 - accuracy: 0.9686\n",
            "Epoch 39/100\n",
            "1875/1875 [==============================] - 3s 2ms/step - loss: 0.1038 - accuracy: 0.9693\n",
            "Epoch 40/100\n",
            "1875/1875 [==============================] - 3s 2ms/step - loss: 0.1014 - accuracy: 0.9706\n",
            "Epoch 41/100\n",
            "1875/1875 [==============================] - 3s 2ms/step - loss: 0.1013 - accuracy: 0.9698\n",
            "Epoch 42/100\n",
            "1875/1875 [==============================] - 3s 2ms/step - loss: 0.0982 - accuracy: 0.9716\n",
            "Epoch 43/100\n",
            "1875/1875 [==============================] - 3s 2ms/step - loss: 0.0977 - accuracy: 0.9707\n",
            "Epoch 44/100\n",
            "1875/1875 [==============================] - 3s 2ms/step - loss: 0.0964 - accuracy: 0.9719\n",
            "Epoch 45/100\n",
            "1875/1875 [==============================] - 3s 2ms/step - loss: 0.0959 - accuracy: 0.9722\n",
            "Epoch 46/100\n",
            "1875/1875 [==============================] - 3s 2ms/step - loss: 0.0943 - accuracy: 0.9717\n",
            "Epoch 47/100\n",
            "1875/1875 [==============================] - 3s 2ms/step - loss: 0.0946 - accuracy: 0.9716\n",
            "Epoch 48/100\n",
            "1875/1875 [==============================] - 3s 2ms/step - loss: 0.0919 - accuracy: 0.9724\n",
            "Epoch 49/100\n",
            "1875/1875 [==============================] - 3s 2ms/step - loss: 0.0921 - accuracy: 0.9725\n",
            "Epoch 50/100\n",
            "1875/1875 [==============================] - 3s 2ms/step - loss: 0.0891 - accuracy: 0.9733\n",
            "Epoch 51/100\n",
            "1875/1875 [==============================] - 3s 2ms/step - loss: 0.0876 - accuracy: 0.9739\n",
            "Epoch 52/100\n",
            "1875/1875 [==============================] - 3s 2ms/step - loss: 0.0869 - accuracy: 0.9736\n",
            "Epoch 53/100\n",
            "1875/1875 [==============================] - 3s 2ms/step - loss: 0.0886 - accuracy: 0.9732\n",
            "Epoch 54/100\n",
            "1875/1875 [==============================] - 3s 2ms/step - loss: 0.0869 - accuracy: 0.9741\n",
            "Epoch 55/100\n",
            "1875/1875 [==============================] - 3s 2ms/step - loss: 0.0851 - accuracy: 0.9744\n",
            "Epoch 56/100\n",
            "1875/1875 [==============================] - 3s 2ms/step - loss: 0.0842 - accuracy: 0.9750\n",
            "Epoch 57/100\n",
            "1875/1875 [==============================] - 3s 2ms/step - loss: 0.0836 - accuracy: 0.9744\n",
            "Epoch 58/100\n",
            "1875/1875 [==============================] - 3s 2ms/step - loss: 0.0810 - accuracy: 0.9754\n",
            "Epoch 59/100\n",
            "1875/1875 [==============================] - 3s 2ms/step - loss: 0.0817 - accuracy: 0.9757\n",
            "Epoch 60/100\n",
            "1875/1875 [==============================] - 3s 2ms/step - loss: 0.0807 - accuracy: 0.9755\n",
            "Epoch 61/100\n",
            "1875/1875 [==============================] - 3s 2ms/step - loss: 0.0801 - accuracy: 0.9759\n",
            "Epoch 62/100\n",
            "1875/1875 [==============================] - 3s 2ms/step - loss: 0.0789 - accuracy: 0.9762\n",
            "Epoch 63/100\n",
            "1875/1875 [==============================] - 3s 2ms/step - loss: 0.0777 - accuracy: 0.9765\n",
            "Epoch 64/100\n",
            "1875/1875 [==============================] - 3s 2ms/step - loss: 0.0772 - accuracy: 0.9760\n",
            "Epoch 65/100\n",
            "1875/1875 [==============================] - 3s 2ms/step - loss: 0.0766 - accuracy: 0.9765\n",
            "Epoch 66/100\n",
            "1875/1875 [==============================] - 3s 2ms/step - loss: 0.0752 - accuracy: 0.9775\n",
            "Epoch 67/100\n",
            "1875/1875 [==============================] - 3s 2ms/step - loss: 0.0747 - accuracy: 0.9769\n",
            "Epoch 68/100\n",
            "1875/1875 [==============================] - 3s 2ms/step - loss: 0.0734 - accuracy: 0.9775\n",
            "Epoch 69/100\n",
            "1875/1875 [==============================] - 3s 2ms/step - loss: 0.0735 - accuracy: 0.9773\n",
            "Epoch 70/100\n",
            "1875/1875 [==============================] - 3s 2ms/step - loss: 0.0725 - accuracy: 0.9776\n",
            "Epoch 71/100\n",
            "1875/1875 [==============================] - 3s 2ms/step - loss: 0.0730 - accuracy: 0.9776\n",
            "Epoch 72/100\n",
            "1875/1875 [==============================] - 3s 2ms/step - loss: 0.0703 - accuracy: 0.9787\n",
            "Epoch 73/100\n",
            "1875/1875 [==============================] - 3s 2ms/step - loss: 0.0709 - accuracy: 0.9789\n",
            "Epoch 74/100\n",
            "1875/1875 [==============================] - 3s 2ms/step - loss: 0.0707 - accuracy: 0.9790\n",
            "Epoch 75/100\n",
            "1875/1875 [==============================] - 3s 2ms/step - loss: 0.0684 - accuracy: 0.9795\n",
            "Epoch 76/100\n",
            "1875/1875 [==============================] - 3s 2ms/step - loss: 0.0681 - accuracy: 0.9794\n",
            "Epoch 77/100\n",
            "1875/1875 [==============================] - 3s 2ms/step - loss: 0.0665 - accuracy: 0.9797\n",
            "Epoch 78/100\n",
            "1875/1875 [==============================] - 3s 2ms/step - loss: 0.0676 - accuracy: 0.9798\n",
            "Epoch 79/100\n",
            "1875/1875 [==============================] - 3s 2ms/step - loss: 0.0676 - accuracy: 0.9787\n",
            "Epoch 80/100\n",
            "1875/1875 [==============================] - 3s 2ms/step - loss: 0.0668 - accuracy: 0.9797\n",
            "Epoch 81/100\n",
            "1875/1875 [==============================] - 3s 2ms/step - loss: 0.0651 - accuracy: 0.9802\n",
            "Epoch 82/100\n",
            "1875/1875 [==============================] - 3s 2ms/step - loss: 0.0659 - accuracy: 0.9791\n",
            "Epoch 83/100\n",
            "1875/1875 [==============================] - 3s 2ms/step - loss: 0.0635 - accuracy: 0.9803\n",
            "Epoch 84/100\n",
            "1875/1875 [==============================] - 3s 2ms/step - loss: 0.0643 - accuracy: 0.9803\n",
            "Epoch 85/100\n",
            "1875/1875 [==============================] - 3s 2ms/step - loss: 0.0626 - accuracy: 0.9808\n",
            "Epoch 86/100\n",
            "1875/1875 [==============================] - 3s 2ms/step - loss: 0.0635 - accuracy: 0.9800\n",
            "Epoch 87/100\n",
            "1875/1875 [==============================] - 3s 2ms/step - loss: 0.0615 - accuracy: 0.9808\n",
            "Epoch 88/100\n",
            "1875/1875 [==============================] - 3s 2ms/step - loss: 0.0608 - accuracy: 0.9819\n",
            "Epoch 89/100\n",
            "1875/1875 [==============================] - 3s 2ms/step - loss: 0.0606 - accuracy: 0.9811\n",
            "Epoch 90/100\n",
            "1875/1875 [==============================] - 3s 2ms/step - loss: 0.0603 - accuracy: 0.9814\n",
            "Epoch 91/100\n",
            "1875/1875 [==============================] - 3s 2ms/step - loss: 0.0604 - accuracy: 0.9812\n",
            "Epoch 92/100\n",
            "1875/1875 [==============================] - 3s 2ms/step - loss: 0.0619 - accuracy: 0.9814\n",
            "Epoch 93/100\n",
            "1875/1875 [==============================] - 3s 2ms/step - loss: 0.0599 - accuracy: 0.9815\n",
            "Epoch 94/100\n",
            "1875/1875 [==============================] - 3s 2ms/step - loss: 0.0609 - accuracy: 0.9811\n",
            "Epoch 95/100\n",
            "1875/1875 [==============================] - 3s 2ms/step - loss: 0.0586 - accuracy: 0.9818\n",
            "Epoch 96/100\n",
            "1875/1875 [==============================] - 3s 2ms/step - loss: 0.0591 - accuracy: 0.9816\n",
            "Epoch 97/100\n",
            "1875/1875 [==============================] - 3s 2ms/step - loss: 0.0587 - accuracy: 0.9816\n",
            "Epoch 98/100\n",
            "1875/1875 [==============================] - 3s 2ms/step - loss: 0.0577 - accuracy: 0.9822\n",
            "Epoch 99/100\n",
            "1875/1875 [==============================] - 3s 2ms/step - loss: 0.0559 - accuracy: 0.9829\n",
            "Epoch 100/100\n",
            "1875/1875 [==============================] - 3s 2ms/step - loss: 0.0558 - accuracy: 0.9822\n"
          ],
          "name": "stdout"
        },
        {
          "output_type": "execute_result",
          "data": {
            "text/plain": [
              "<tensorflow.python.keras.callbacks.History at 0x7f3a3b370320>"
            ]
          },
          "metadata": {
            "tags": []
          },
          "execution_count": 42
        }
      ]
    },
    {
      "cell_type": "code",
      "metadata": {
        "id": "xcmLF5dxRDey",
        "colab_type": "code",
        "colab": {
          "base_uri": "https://localhost:8080/",
          "height": 53
        },
        "outputId": "69f96810-1a9e-451b-8b7d-5e0664d7c40a"
      },
      "source": [
        "model.evaluate(x_test,y_test,verbose=2)"
      ],
      "execution_count": 43,
      "outputs": [
        {
          "output_type": "stream",
          "text": [
            "313/313 - 0s - loss: 0.0784 - accuracy: 0.9785\n"
          ],
          "name": "stdout"
        },
        {
          "output_type": "execute_result",
          "data": {
            "text/plain": [
              "[0.07844758033752441, 0.9785000085830688]"
            ]
          },
          "metadata": {
            "tags": []
          },
          "execution_count": 43
        }
      ]
    },
    {
      "cell_type": "code",
      "metadata": {
        "id": "CYDFH5fERXkv",
        "colab_type": "code",
        "colab": {}
      },
      "source": [
        "result = model.predict(x_test)\n",
        "\n"
      ],
      "execution_count": 54,
      "outputs": []
    },
    {
      "cell_type": "code",
      "metadata": {
        "id": "ONnljavSRnKg",
        "colab_type": "code",
        "colab": {
          "base_uri": "https://localhost:8080/",
          "height": 35
        },
        "outputId": "68a67888-8d74-4b64-8e58-945433067962"
      },
      "source": [
        "result.max()\n",
        "i=result[0].max()\n",
        "result[0].tolist().index(i)\n",
        "type(result[0].tolist().index(i))"
      ],
      "execution_count": 60,
      "outputs": [
        {
          "output_type": "execute_result",
          "data": {
            "text/plain": [
              "int"
            ]
          },
          "metadata": {
            "tags": []
          },
          "execution_count": 60
        }
      ]
    },
    {
      "cell_type": "code",
      "metadata": {
        "id": "5TNRroYUSLNq",
        "colab_type": "code",
        "colab": {
          "base_uri": "https://localhost:8080/",
          "height": 292
        },
        "outputId": "0751ca63-4dad-4624-e8d2-d219698dcbe4"
      },
      "source": [
        "show_num(x_test[0],y_test[0])"
      ],
      "execution_count": 58,
      "outputs": [
        {
          "output_type": "display_data",
          "data": {
            "image/png": "[encoded data removed]",
            "text/plain": [
              "<Figure size 432x288 with 1 Axes>"
            ]
          },
          "metadata": {
            "tags": []
          }
        }
      ]
    },
    {
      "cell_type": "code",
      "metadata": {
        "id": "u4nz6HnBS9UZ",
        "colab_type": "code",
        "colab": {
          "base_uri": "https://localhost:8080/",
          "height": 1000
        },
        "outputId": "24f9a30f-6dfb-426c-eff2-bb3e31900bf4"
      },
      "source": [
        "for j in range(800,1000):\n",
        "  i=result[j].max()\n",
        "  if result[j].tolist().index(i)==y_test[j]:\n",
        "    pass\n",
        "  else:\n",
        "    show_num(x_test[j],y_test[j])\n",
        "    print(result[j].tolist().index(i))\n"
      ],
      "execution_count": 65,
      "outputs": [
        {
          "output_type": "display_data",
          "data": {
            "image/png": "[encoded data removed]",
            "text/plain": [
              "<Figure size 432x288 with 1 Axes>"
            ]
          },
          "metadata": {
            "tags": []
          }
        },
        {
          "output_type": "stream",
          "text": [
            "2\n"
          ],
          "name": "stdout"
        },
        {
          "output_type": "display_data",
          "data": {
            "image/png": "[encoded data removed]",
            "text/plain": [
              "<Figure size 432x288 with 1 Axes>"
            ]
          },
          "metadata": {
            "tags": []
          }
        },
        {
          "output_type": "stream",
          "text": [
            "7\n"
          ],
          "name": "stdout"
        },
        {
          "output_type": "display_data",
          "data": {
            "image/png": "[encoded data removed]",
            "text/plain": [
              "<Figure size 432x288 with 1 Axes>"
            ]
          },
          "metadata": {
            "tags": []
          }
        },
        {
          "output_type": "stream",
          "text": [
            "9\n"
          ],
          "name": "stdout"
        },
        {
          "output_type": "display_data",
          "data": {
            "image/png": "[encoded data removed]",
            "text/plain": [
              "<Figure size 432x288 with 1 Axes>"
            ]
          },
          "metadata": {
            "tags": []
          }
        },
        {
          "output_type": "stream",
          "text": [
            "8\n"
          ],
          "name": "stdout"
        },
        {
          "output_type": "display_data",
          "data": {
            "image/png": "[encoded data removed]",
            "text/plain": [
              "<Figure size 432x288 with 1 Axes>"
            ]
          },
          "metadata": {
            "tags": []
          }
        },
        {
          "output_type": "stream",
          "text": [
            "9\n"
          ],
          "name": "stdout"
        },
        {
          "output_type": "display_data",
          "data": {
            "image/png": "[encoded data removed]",
            "text/plain": [
              "<Figure size 432x288 with 1 Axes>"
            ]
          },
          "metadata": {
            "tags": []
          }
        },
        {
          "output_type": "stream",
          "text": [
            "4\n"
          ],
          "name": "stdout"
        },
        {
          "output_type": "display_data",
          "data": {
            "image/png": "[encoded data removed]",
            "text/plain": [
              "<Figure size 432x288 with 1 Axes>"
            ]
          },
          "metadata": {
            "tags": []
          }
        },
        {
          "output_type": "stream",
          "text": [
            "2\n"
          ],
          "name": "stdout"
        },
        {
          "output_type": "display_data",
          "data": {
            "image/png": "[encoded data removed]",
            "text/plain": [
              "<Figure size 432x288 with 1 Axes>"
            ]
          },
          "metadata": {
            "tags": []
          }
        },
        {
          "output_type": "stream",
          "text": [
            "0\n"
          ],
          "name": "stdout"
        }
      ]
    },
    {
      "cell_type": "code",
      "metadata": {
        "id": "CQgQ538mSmns",
        "colab_type": "code",
        "colab": {}
      },
      "source": [
        ""
      ],
      "execution_count": null,
      "outputs": []
    }
  ]
}